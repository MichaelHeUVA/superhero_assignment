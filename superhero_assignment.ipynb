{
  "nbformat": 4,
  "nbformat_minor": 0,
  "metadata": {
    "colab": {
      "provenance": []
    },
    "kernelspec": {
      "name": "python3",
      "display_name": "Python 3"
    },
    "language_info": {
      "name": "python"
    }
  },
  "cells": [
    {
      "cell_type": "markdown",
      "source": [
        "# Step 1: Setting Up Your SQLite Database\n"
      ],
      "metadata": {
        "id": "8mTVKwlbfkXj"
      }
    },
    {
      "cell_type": "code",
      "execution_count": 1,
      "metadata": {
        "id": "ssXbToEVcc9e"
      },
      "outputs": [],
      "source": [
        "import sqlite3\n",
        "\n",
        "# Create a connection object to the database\n",
        "conn = sqlite3.connect('superhero_db.sqlite')\n",
        "\n",
        "# Create a cursor object using the connection\n",
        "cursor = conn.cursor()"
      ]
    },
    {
      "cell_type": "code",
      "source": [
        "# Create the tables\n",
        "ddl_statements = \"\"\"\n",
        "-- Heroes table\n",
        "CREATE TABLE heroes (\n",
        "    id INTEGER PRIMARY KEY AUTOINCREMENT,\n",
        "    name TEXT NOT NULL,\n",
        "    power TEXT,\n",
        "    team TEXT\n",
        ");\n",
        "\n",
        "-- Villains table\n",
        "CREATE TABLE villains (\n",
        "    id INTEGER PRIMARY KEY AUTOINCREMENT,\n",
        "    name TEXT NOT NULL,\n",
        "    evil_plan TEXT\n",
        ");\n",
        "\n",
        "-- Battles table\n",
        "CREATE TABLE battles (\n",
        "    id INTEGER PRIMARY KEY AUTOINCREMENT,\n",
        "    hero_id INTEGER,\n",
        "    villain_id INTEGER,\n",
        "    outcome TEXT,\n",
        "    FOREIGN KEY (hero_id) REFERENCES heroes(id),\n",
        "    FOREIGN KEY (villain_id) REFERENCES villains(id)\n",
        ");\n",
        "\"\"\""
      ],
      "metadata": {
        "id": "PfM4lbZ3ctnw"
      },
      "execution_count": 2,
      "outputs": []
    },
    {
      "cell_type": "code",
      "source": [
        "cursor.executescript(ddl_statements)\n",
        "conn.commit()"
      ],
      "metadata": {
        "id": "kmxusFpYdJ7Y"
      },
      "execution_count": 3,
      "outputs": []
    },
    {
      "cell_type": "markdown",
      "source": [
        "# Step 2: Import Data from CSV Files"
      ],
      "metadata": {
        "id": "FjlcE8qafm50"
      }
    },
    {
      "cell_type": "code",
      "source": [
        "import pandas as pd\n",
        "\n",
        "# Upload CSVs to Colab\n",
        "heroes_df = pd.read_csv('heroes.csv')\n",
        "heroes_df.to_sql('heroes', conn, if_exists='append', index=False)\n",
        "\n",
        "villains_df = pd.read_csv('villains.csv')\n",
        "villains_df.to_sql('villains', conn, if_exists='append', index=False)\n",
        "\n",
        "battles_df = pd.read_csv('battles.csv')\n",
        "battles_df.to_sql('battles', conn, if_exists='append', index=False)\n",
        "\n",
        "# Verify data insertion\n",
        "print(pd.read_sql_query(\"SELECT * FROM heroes;\", conn))\n",
        "print(pd.read_sql_query(\"SELECT * FROM villains;\", conn))\n",
        "print(pd.read_sql_query(\"SELECT * FROM battles;\", conn))"
      ],
      "metadata": {
        "colab": {
          "base_uri": "https://localhost:8080/"
        },
        "id": "kXUWkwxcdolC",
        "outputId": "3a552e90-4c1f-4418-9c60-c073af9a8cb9"
      },
      "execution_count": 4,
      "outputs": [
        {
          "output_type": "stream",
          "name": "stdout",
          "text": [
            "   id            name               power            team\n",
            "0   1      Spider-Man        Web-slinging        Avengers\n",
            "1   2        Iron Man       Powered Armor        Avengers\n",
            "2   3          Batman    Genius Detective  Justice League\n",
            "3   4        Superman      Super Strength  Justice League\n",
            "4   5            Thor      God of Thunder        Avengers\n",
            "5   6    Wonder Woman  Amazonian Strength  Justice League\n",
            "6   7   Black Panther    Enhanced Agility        Avengers\n",
            "7   8       The Flash         Super Speed  Justice League\n",
            "8   9            Hulk      Super Strength        Avengers\n",
            "9  10  Doctor Strange         Mystic Arts        Avengers\n",
            "   id          name                           evil_plan\n",
            "0   1  Green Goblin                  Terrorize New York\n",
            "1   2        Thanos         Collect all Infinity Stones\n",
            "2   3         Joker              Spread chaos in Gotham\n",
            "3   4    Lex Luthor                     Defeat Superman\n",
            "4   5          Loki  Trick humanity into worshiping him\n",
            "5   6        Ultron                 AI world domination\n",
            "6   7      Darkseid                Control the universe\n",
            "7   8         Venom                  Consume Spider-Man\n",
            "8   9       Magneto                    Mutant supremacy\n",
            "9  10     Red Skull                        Revive Hydra\n",
            "    id  hero_id  villain_id       outcome\n",
            "0    1        1          10  Villain Wins\n",
            "1    2        9           3     Hero Wins\n",
            "2    3        8           1          Draw\n",
            "3    4        5           4  Villain Wins\n",
            "4    5        1           7     Hero Wins\n",
            "5    6        2           8  Villain Wins\n",
            "6    7        9           8     Hero Wins\n",
            "7    8        3           2     Hero Wins\n",
            "8    9        7           5     Hero Wins\n",
            "9   10        3           1          Draw\n",
            "10  11        1           8  Villain Wins\n",
            "11  12        2           1          Draw\n",
            "12  13        8           9     Hero Wins\n",
            "13  14        8           1          Draw\n",
            "14  15        6          10          Draw\n",
            "15  16        1           1  Villain Wins\n",
            "16  17        8           3          Draw\n",
            "17  18        6           3  Villain Wins\n",
            "18  19        4           8  Villain Wins\n",
            "19  20        3           4     Hero Wins\n",
            "20  21        8           1          Draw\n",
            "21  22        4           9          Draw\n",
            "22  23        3           9          Draw\n",
            "23  24        8           9  Villain Wins\n",
            "24  25        2           5          Draw\n",
            "25  26        3           7          Draw\n",
            "26  27       10           3          Draw\n",
            "27  28        3           8          Draw\n",
            "28  29        3           5     Hero Wins\n",
            "29  30        5           5     Hero Wins\n"
          ]
        }
      ]
    },
    {
      "cell_type": "markdown",
      "source": [
        "# Step 3: Querying the Database\n"
      ],
      "metadata": {
        "id": "xoMQR6RNfrMO"
      }
    },
    {
      "cell_type": "code",
      "source": [
        "# Retrieve all superheroes and their powers\n",
        "cursor.execute(\"SELECT name, power FROM heroes;\")\n",
        "print(cursor.fetchall())"
      ],
      "metadata": {
        "colab": {
          "base_uri": "https://localhost:8080/"
        },
        "id": "6tlTLRiIeQjN",
        "outputId": "e870d806-8a29-4578-ea6c-eb9bb4515056"
      },
      "execution_count": 5,
      "outputs": [
        {
          "output_type": "stream",
          "name": "stdout",
          "text": [
            "[('Spider-Man', 'Web-slinging'), ('Iron Man', 'Powered Armor'), ('Batman', 'Genius Detective'), ('Superman', 'Super Strength'), ('Thor', 'God of Thunder'), ('Wonder Woman', 'Amazonian Strength'), ('Black Panther', 'Enhanced Agility'), ('The Flash', 'Super Speed'), ('Hulk', 'Super Strength'), ('Doctor Strange', 'Mystic Arts')]\n"
          ]
        }
      ]
    },
    {
      "cell_type": "code",
      "source": [
        "# Find all battles where the hero won\n",
        "cursor.execute(\"SELECT * FROM battles WHERE outcome='Hero Wins';\")\n",
        "print(cursor.fetchall())"
      ],
      "metadata": {
        "colab": {
          "base_uri": "https://localhost:8080/"
        },
        "id": "uvGFfXeGehSQ",
        "outputId": "f4b3308f-ad2c-4615-f119-e6e8bd490973"
      },
      "execution_count": 6,
      "outputs": [
        {
          "output_type": "stream",
          "name": "stdout",
          "text": [
            "[(2, 9, 3, 'Hero Wins'), (5, 1, 7, 'Hero Wins'), (7, 9, 8, 'Hero Wins'), (8, 3, 2, 'Hero Wins'), (9, 7, 5, 'Hero Wins'), (13, 8, 9, 'Hero Wins'), (20, 3, 4, 'Hero Wins'), (29, 3, 5, 'Hero Wins'), (30, 5, 5, 'Hero Wins')]\n"
          ]
        }
      ]
    },
    {
      "cell_type": "code",
      "source": [
        "# List all villains and their evil plans\n",
        "cursor.execute(\"SELECT name, evil_plan FROM villains;\")\n",
        "print(cursor.fetchall())"
      ],
      "metadata": {
        "colab": {
          "base_uri": "https://localhost:8080/"
        },
        "id": "rxJ6eZ9xeqlC",
        "outputId": "34620460-405e-4550-85d6-519c186666e8"
      },
      "execution_count": 7,
      "outputs": [
        {
          "output_type": "stream",
          "name": "stdout",
          "text": [
            "[('Green Goblin', 'Terrorize New York'), ('Thanos', 'Collect all Infinity Stones'), ('Joker', 'Spread chaos in Gotham'), ('Lex Luthor', 'Defeat Superman'), ('Loki', 'Trick humanity into worshiping him'), ('Ultron', 'AI world domination'), ('Darkseid', 'Control the universe'), ('Venom', 'Consume Spider-Man'), ('Magneto', 'Mutant supremacy'), ('Red Skull', 'Revive Hydra')]\n"
          ]
        }
      ]
    },
    {
      "cell_type": "code",
      "source": [
        "# Determine the superhero who fought the most battles\n",
        "cursor.execute(\"\"\"\n",
        "    SELECT heroes.name, COUNT(*) as battles_fought\n",
        "    FROM battles\n",
        "    JOIN heroes ON battles.hero_id = heroes.id\n",
        "    GROUP BY heroes.name\n",
        "    ORDER BY battles_fought DESC\n",
        "    LIMIT 1;\n",
        "\"\"\")\n",
        "print(cursor.fetchall())"
      ],
      "metadata": {
        "colab": {
          "base_uri": "https://localhost:8080/"
        },
        "id": "1kN0zTe1e2HH",
        "outputId": "8f852154-78cb-4505-f777-531eda79bf49"
      },
      "execution_count": 8,
      "outputs": [
        {
          "output_type": "stream",
          "name": "stdout",
          "text": [
            "[('Batman', 7)]\n"
          ]
        }
      ]
    },
    {
      "cell_type": "markdown",
      "source": [
        "# Step 4: Add a Custom Feature\n"
      ],
      "metadata": {
        "id": "ItLL8aFAfu-d"
      }
    },
    {
      "cell_type": "code",
      "source": [
        "# Create new sidekicks table\n",
        "ddl_statement = \"\"\"\n",
        "CREATE TABLE sidekicks (\n",
        "    id INTEGER PRIMARY KEY AUTOINCREMENT,\n",
        "    hero_id INTEGER,\n",
        "    sidekick_name TEXT,\n",
        "    FOREIGN KEY (hero_id) REFERENCES heroes(id)\n",
        ");\n",
        "\"\"\""
      ],
      "metadata": {
        "id": "IxWRfBrafuLp"
      },
      "execution_count": 9,
      "outputs": []
    },
    {
      "cell_type": "code",
      "source": [
        "cursor.executescript(ddl_statement)\n",
        "conn.commit()"
      ],
      "metadata": {
        "id": "7nvz9E5Zf44B"
      },
      "execution_count": 10,
      "outputs": []
    },
    {
      "cell_type": "code",
      "source": [
        "# Add sidekicks to the database\n",
        "sidekicks_data = [\n",
        "    {'hero_id': 3, 'sidekick_name': 'Robin'},\n",
        "    {'hero_id': 1, 'sidekick_name': 'Ned Leeds'}\n",
        "]\n",
        "\n",
        "sidekicks_df = pd.DataFrame(sidekicks_data)\n",
        "sidekicks_df.to_sql('sidekicks', conn, if_exists='append', index=False)\n",
        "\n",
        "print(pd.read_sql_query(\"SELECT * FROM sidekicks;\", conn))"
      ],
      "metadata": {
        "colab": {
          "base_uri": "https://localhost:8080/"
        },
        "id": "t-RmhjMngeeF",
        "outputId": "f073f558-f24b-4c40-e9b7-c4af9ea28c4a"
      },
      "execution_count": 11,
      "outputs": [
        {
          "output_type": "stream",
          "name": "stdout",
          "text": [
            "   id  hero_id sidekick_name\n",
            "0   1        3         Robin\n",
            "1   2        1     Ned Leeds\n"
          ]
        }
      ]
    },
    {
      "cell_type": "code",
      "source": [
        "# Query sidekicks\n",
        "cursor.execute(\"\"\"\n",
        "    SELECT heroes.name, sidekicks.sidekick_name\n",
        "    FROM heroes\n",
        "    JOIN sidekicks ON heroes.id = sidekicks.hero_id;\n",
        "\"\"\")\n",
        "print(cursor.fetchall())"
      ],
      "metadata": {
        "colab": {
          "base_uri": "https://localhost:8080/"
        },
        "id": "ZWZGgj0zf2Xi",
        "outputId": "320c50a3-d50c-4a93-8af4-1ee683c2fb76"
      },
      "execution_count": 12,
      "outputs": [
        {
          "output_type": "stream",
          "name": "stdout",
          "text": [
            "[('Batman', 'Robin'), ('Spider-Man', 'Ned Leeds')]\n"
          ]
        }
      ]
    },
    {
      "cell_type": "markdown",
      "source": [
        "# Bonus Challenge"
      ],
      "metadata": {
        "id": "_wqbWboigoQT"
      }
    },
    {
      "cell_type": "code",
      "source": [
        "import matplotlib.pyplot as plt\n",
        "\n",
        "# Fetch data for visualization\n",
        "heroes_battles = pd.read_sql_query(\"\"\"\n",
        "    SELECT heroes.name, COUNT(battles.id) as num_battles\n",
        "    FROM battles\n",
        "    JOIN heroes ON battles.hero_id = heroes.id\n",
        "    GROUP BY heroes.name;\n",
        "\"\"\", conn)\n",
        "\n",
        "# Bar chart of number of battles per hero\n",
        "plt.bar(heroes_battles['name'], heroes_battles['num_battles'])\n",
        "plt.title('Battles fought by each Hero')\n",
        "plt.xlabel('Hero')\n",
        "plt.ylabel('Number of Battles')\n",
        "plt.xticks(rotation=90)\n",
        "plt.show()"
      ],
      "metadata": {
        "colab": {
          "base_uri": "https://localhost:8080/",
          "height": 568
        },
        "id": "0DO5_75mgpiq",
        "outputId": "c4c6fe2a-9cb9-4c8e-cbbe-5d61b3f42302"
      },
      "execution_count": 13,
      "outputs": [
        {
          "output_type": "display_data",
          "data": {
            "text/plain": [
              "<Figure size 640x480 with 1 Axes>"
            ],
            "image/png": "[encoded data removed]"
          },
          "metadata": {}
        }
      ]
    }
  ]
}